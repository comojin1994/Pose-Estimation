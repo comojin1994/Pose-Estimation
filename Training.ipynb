{
 "cells": [
  {
   "cell_type": "markdown",
   "metadata": {},
   "source": [
    "# Load Library & Preprocess Data "
   ]
  },
  {
   "cell_type": "code",
   "execution_count": 1,
   "metadata": {},
   "outputs": [],
   "source": [
    "import os\n",
    "GPU = f'0'\n",
    "os.environ['CUDA_VISIBLE_DEVICES']=GPU\n",
    "import random\n",
    "import numpy as np\n",
    "import tensorflow as tf\n",
    "import pandas as pd\n",
    "import matplotlib.pyplot as plt\n",
    "%matplotlib inline\n",
    "\n",
    "from tensorflow.keras.callbacks import (\n",
    "    ReduceLROnPlateau,\n",
    "    EarlyStopping,\n",
    "    ModelCheckpoint,\n",
    "    TensorBoard\n",
    ")\n",
    "from sklearn.model_selection import train_test_split\n",
    "\n",
    "from config import *\n",
    "from Models.models import yoloV3, yoloLoss"
   ]
  },
  {
   "cell_type": "markdown",
   "metadata": {},
   "source": [
    "### Set Seed"
   ]
  },
  {
   "cell_type": "code",
   "execution_count": 2,
   "metadata": {},
   "outputs": [],
   "source": [
    "SEED = 42\n",
    "\n",
    "def seed_everything(seed):\n",
    "    random.seed(seed)\n",
    "    os.environ['PYTHONHASHSEED'] = str(seed)\n",
    "    np.random.seed(seed)\n",
    "    tf.random.set_seed(seed)\n",
    "\n",
    "seed_everything(SEED)"
   ]
  },
  {
   "cell_type": "markdown",
   "metadata": {},
   "source": [
    "### Load Data "
   ]
  },
  {
   "cell_type": "code",
   "execution_count": 3,
   "metadata": {},
   "outputs": [],
   "source": [
    "df = pd.read_csv(TRAIN_CSV)\n",
    "test_df = pd.read_csv(TEST_CSV)"
   ]
  },
  {
   "cell_type": "code",
   "execution_count": 4,
   "metadata": {},
   "outputs": [
    {
     "data": {
      "text/html": [
       "<div>\n",
       "<style scoped>\n",
       "    .dataframe tbody tr th:only-of-type {\n",
       "        vertical-align: middle;\n",
       "    }\n",
       "\n",
       "    .dataframe tbody tr th {\n",
       "        vertical-align: top;\n",
       "    }\n",
       "\n",
       "    .dataframe thead th {\n",
       "        text-align: right;\n",
       "    }\n",
       "</style>\n",
       "<table border=\"1\" class=\"dataframe\">\n",
       "  <thead>\n",
       "    <tr style=\"text-align: right;\">\n",
       "      <th></th>\n",
       "      <th>image_path</th>\n",
       "      <th>x_rankle</th>\n",
       "      <th>y_rankle</th>\n",
       "      <th>x_rknee</th>\n",
       "      <th>y_rknee</th>\n",
       "      <th>x_rhip</th>\n",
       "      <th>y_rhip</th>\n",
       "      <th>x_lhip</th>\n",
       "      <th>y_lhip</th>\n",
       "      <th>x_lknee</th>\n",
       "      <th>...</th>\n",
       "      <th>x_lshoulder</th>\n",
       "      <th>y_lshoulder</th>\n",
       "      <th>x_lelbow</th>\n",
       "      <th>y_lelbow</th>\n",
       "      <th>x_lwrist</th>\n",
       "      <th>y_lwrist</th>\n",
       "      <th>x_human</th>\n",
       "      <th>y_human</th>\n",
       "      <th>w_human</th>\n",
       "      <th>h_human</th>\n",
       "    </tr>\n",
       "  </thead>\n",
       "  <tbody>\n",
       "    <tr>\n",
       "      <th>0</th>\n",
       "      <td>015601864.jpg</td>\n",
       "      <td>394</td>\n",
       "      <td>620</td>\n",
       "      <td>269</td>\n",
       "      <td>616</td>\n",
       "      <td>185</td>\n",
       "      <td>573</td>\n",
       "      <td>188</td>\n",
       "      <td>647</td>\n",
       "      <td>221</td>\n",
       "      <td>...</td>\n",
       "      <td>185</td>\n",
       "      <td>692</td>\n",
       "      <td>240</td>\n",
       "      <td>693</td>\n",
       "      <td>313</td>\n",
       "      <td>688</td>\n",
       "      <td>257</td>\n",
       "      <td>594</td>\n",
       "      <td>286</td>\n",
       "      <td>205</td>\n",
       "    </tr>\n",
       "    <tr>\n",
       "      <th>1</th>\n",
       "      <td>015601864.jpg</td>\n",
       "      <td>293</td>\n",
       "      <td>895</td>\n",
       "      <td>279</td>\n",
       "      <td>910</td>\n",
       "      <td>223</td>\n",
       "      <td>945</td>\n",
       "      <td>218</td>\n",
       "      <td>1012</td>\n",
       "      <td>315</td>\n",
       "      <td>...</td>\n",
       "      <td>206</td>\n",
       "      <td>924</td>\n",
       "      <td>203</td>\n",
       "      <td>1013</td>\n",
       "      <td>263</td>\n",
       "      <td>955</td>\n",
       "      <td>222</td>\n",
       "      <td>952</td>\n",
       "      <td>229</td>\n",
       "      <td>229</td>\n",
       "    </tr>\n",
       "    <tr>\n",
       "      <th>2</th>\n",
       "      <td>015599452.jpg</td>\n",
       "      <td>0</td>\n",
       "      <td>0</td>\n",
       "      <td>0</td>\n",
       "      <td>0</td>\n",
       "      <td>543</td>\n",
       "      <td>806</td>\n",
       "      <td>593</td>\n",
       "      <td>720</td>\n",
       "      <td>0</td>\n",
       "      <td>...</td>\n",
       "      <td>299</td>\n",
       "      <td>719</td>\n",
       "      <td>516</td>\n",
       "      <td>711</td>\n",
       "      <td>466</td>\n",
       "      <td>545</td>\n",
       "      <td>329</td>\n",
       "      <td>619</td>\n",
       "      <td>525</td>\n",
       "      <td>525</td>\n",
       "    </tr>\n",
       "    <tr>\n",
       "      <th>3</th>\n",
       "      <td>015599452.jpg</td>\n",
       "      <td>0</td>\n",
       "      <td>0</td>\n",
       "      <td>0</td>\n",
       "      <td>0</td>\n",
       "      <td>607</td>\n",
       "      <td>987</td>\n",
       "      <td>571</td>\n",
       "      <td>1194</td>\n",
       "      <td>0</td>\n",
       "      <td>...</td>\n",
       "      <td>269</td>\n",
       "      <td>1145</td>\n",
       "      <td>475</td>\n",
       "      <td>1226</td>\n",
       "      <td>433</td>\n",
       "      <td>1096</td>\n",
       "      <td>412</td>\n",
       "      <td>1010</td>\n",
       "      <td>533</td>\n",
       "      <td>533</td>\n",
       "    </tr>\n",
       "    <tr>\n",
       "      <th>4</th>\n",
       "      <td>015599452.jpg</td>\n",
       "      <td>0</td>\n",
       "      <td>0</td>\n",
       "      <td>0</td>\n",
       "      <td>0</td>\n",
       "      <td>537</td>\n",
       "      <td>228</td>\n",
       "      <td>536</td>\n",
       "      <td>74</td>\n",
       "      <td>0</td>\n",
       "      <td>...</td>\n",
       "      <td>251</td>\n",
       "      <td>26</td>\n",
       "      <td>423</td>\n",
       "      <td>26</td>\n",
       "      <td>0</td>\n",
       "      <td>0</td>\n",
       "      <td>315</td>\n",
       "      <td>133</td>\n",
       "      <td>506</td>\n",
       "      <td>506</td>\n",
       "    </tr>\n",
       "  </tbody>\n",
       "</table>\n",
       "<p>5 rows × 37 columns</p>\n",
       "</div>"
      ],
      "text/plain": [
       "      image_path  x_rankle  y_rankle  x_rknee  y_rknee  x_rhip  y_rhip  \\\n",
       "0  015601864.jpg       394       620      269      616     185     573   \n",
       "1  015601864.jpg       293       895      279      910     223     945   \n",
       "2  015599452.jpg         0         0        0        0     543     806   \n",
       "3  015599452.jpg         0         0        0        0     607     987   \n",
       "4  015599452.jpg         0         0        0        0     537     228   \n",
       "\n",
       "   x_lhip  y_lhip  x_lknee  ...  x_lshoulder  y_lshoulder  x_lelbow  y_lelbow  \\\n",
       "0     188     647      221  ...          185          692       240       693   \n",
       "1     218    1012      315  ...          206          924       203      1013   \n",
       "2     593     720        0  ...          299          719       516       711   \n",
       "3     571    1194        0  ...          269         1145       475      1226   \n",
       "4     536      74        0  ...          251           26       423        26   \n",
       "\n",
       "   x_lwrist  y_lwrist  x_human  y_human  w_human  h_human  \n",
       "0       313       688      257      594      286      205  \n",
       "1       263       955      222      952      229      229  \n",
       "2       466       545      329      619      525      525  \n",
       "3       433      1096      412     1010      533      533  \n",
       "4         0         0      315      133      506      506  \n",
       "\n",
       "[5 rows x 37 columns]"
      ]
     },
     "execution_count": 4,
     "metadata": {},
     "output_type": "execute_result"
    }
   ],
   "source": [
    "df.head()"
   ]
  },
  {
   "cell_type": "markdown",
   "metadata": {},
   "source": [
    "### Split train & validation Data "
   ]
  },
  {
   "cell_type": "code",
   "execution_count": 5,
   "metadata": {},
   "outputs": [],
   "source": [
    "train_df, val_df = train_test_split(df, test_size=0.1, random_state=SEED)"
   ]
  },
  {
   "cell_type": "code",
   "execution_count": 6,
   "metadata": {},
   "outputs": [
    {
     "data": {
      "text/plain": [
       "((25994, 37), (2889, 37))"
      ]
     },
     "execution_count": 6,
     "metadata": {},
     "output_type": "execute_result"
    }
   ],
   "source": [
    "train_df.shape, val_df.shape"
   ]
  },
  {
   "cell_type": "markdown",
   "metadata": {},
   "source": [
    "# Build Model "
   ]
  },
  {
   "cell_type": "code",
   "execution_count": 7,
   "metadata": {},
   "outputs": [
    {
     "name": "stdout",
     "output_type": "stream",
     "text": [
      "Model: \"yolov3\"\n",
      "__________________________________________________________________________________________________\n",
      "Layer (type)                    Output Shape         Param #     Connected to                     \n",
      "==================================================================================================\n",
      "input (InputLayer)              [(None, 416, 416, 3) 0                                            \n",
      "__________________________________________________________________________________________________\n",
      "yolo_darknet (Functional)       ((None, None, None,  40620640    input[0][0]                      \n",
      "__________________________________________________________________________________________________\n",
      "yolo_conv_0 (Functional)        (None, 13, 13, 512)  11024384    yolo_darknet[0][2]               \n",
      "__________________________________________________________________________________________________\n",
      "yolo_conv_1 (Functional)        (None, 13, 13, 256)  2759680     yolo_conv_0[0][0]                \n",
      "__________________________________________________________________________________________________\n",
      "yolo_conv_2 (Functional)        (None, 13, 13, 128)  691712      yolo_conv_1[0][0]                \n",
      "__________________________________________________________________________________________________\n",
      "yolo_output_0 (Functional)      (None, None, None, 3 4790338     yolo_conv_0[0][0]                \n",
      "__________________________________________________________________________________________________\n",
      "yolo_output_1 (Functional)      (None, None, None, 3 1215554     yolo_conv_1[0][0]                \n",
      "__________________________________________________________________________________________________\n",
      "yolo_output_2 (Functional)      (None, None, None, 3 312898      yolo_conv_2[0][0]                \n",
      "==================================================================================================\n",
      "Total params: 61,415,206\n",
      "Trainable params: 61,363,366\n",
      "Non-trainable params: 51,840\n",
      "__________________________________________________________________________________________________\n",
      "None\n"
     ]
    }
   ],
   "source": [
    "with tf.device(f'/device:GPU:{GPU}'):\n",
    "    model = yoloV3(size=size, training=True, classes=num_classes)\n",
    "    print(model.summary())\n",
    "    anchors = yolo_anchors\n",
    "    anchor_masks = yolo_anchor_masks"
   ]
  },
  {
   "cell_type": "markdown",
   "metadata": {},
   "source": [
    "# Compile Model "
   ]
  },
  {
   "cell_type": "code",
   "execution_count": 8,
   "metadata": {},
   "outputs": [],
   "source": [
    "optimizer = tf.keras.optimizers.Adam(learning_rate=learning_rate)\n",
    "loss = [yoloLoss(anchors[mask], classes=num_classes) for mask in anchor_masks]"
   ]
  },
  {
   "cell_type": "code",
   "execution_count": 9,
   "metadata": {},
   "outputs": [],
   "source": [
    "model.compile(optimizer=optimizer, loss=loss)\n",
    "\n",
    "callbacks = [\n",
    "    ReduceLROnPlateau(verbose=1),\n",
    "    EarlyStopping(patience=3, verbose=1),\n",
    "    ModelCheckpoint('{CKPT_PATH}/yolov3_train_{epoch}.tf',\n",
    "                   verbose=1,\n",
    "                   save_weights_only=True),\n",
    "    TensorBoard(log_dir='logs')\n",
    "]"
   ]
  },
  {
   "cell_type": "markdown",
   "metadata": {},
   "source": [
    "# Training "
   ]
  },
  {
   "cell_type": "code",
   "execution_count": null,
   "metadata": {},
   "outputs": [],
   "source": [
    "# history = model.fit(train_dataset,\n",
    "#                    epochs=EPOCHS,\n",
    "#                    callbacks=callbacks,\n",
    "#                    validation_data=val_dataset)"
   ]
  }
 ],
 "metadata": {
  "kernelspec": {
   "display_name": "Pose-Estimation",
   "language": "python",
   "name": "pose-estimation"
  },
  "language_info": {
   "codemirror_mode": {
    "name": "ipython",
    "version": 3
   },
   "file_extension": ".py",
   "mimetype": "text/x-python",
   "name": "python",
   "nbconvert_exporter": "python",
   "pygments_lexer": "ipython3",
   "version": "3.7.9"
  }
 },
 "nbformat": 4,
 "nbformat_minor": 4
}
